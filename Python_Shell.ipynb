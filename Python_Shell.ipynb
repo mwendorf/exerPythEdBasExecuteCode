{
 "cells": [
  {
   "cell_type": "markdown",
   "id": "fd24c9e6",
   "metadata": {
    "deletable": false,
    "editable": false,
    "nbgrader": {
     "cell_type": "markdown",
     "checksum": "7b65c2a4d145f267ce5d1b6a8c607df3",
     "grade": false,
     "grade_id": "cell-f670bba7515806da",
     "locked": true,
     "schema_version": 3,
     "solution": false,
     "task": false
    }
   },
   "source": [
    "### Instructions\n",
    "\n",
    "* Sign up for the free course on Educative, __Learn Python 3 From Scratch__\n",
    "* https://www.educative.io/courses/learn-python-3-from-scratch\n",
    "* Complete the programming exercises below as you go through the course.\n",
    "* Delete or comment out the line of code in each cell which says `raise NotImplementedError()` and replace it with your own."
   ]
  },
  {
   "cell_type": "markdown",
   "id": "79500ccb",
   "metadata": {
    "deletable": false,
    "editable": false,
    "nbgrader": {
     "cell_type": "markdown",
     "checksum": "2ff96984496e662b2bee94843d382a18",
     "grade": false,
     "grade_id": "cell-47d4ff2f50d377ea",
     "locked": true,
     "schema_version": 3,
     "solution": false,
     "task": false
    }
   },
   "source": [
    "# Educative - Executing Python Code\n",
    "\n",
    "https://www.educative.io/courses/learn-python-3-from-scratch/q2NOR604ZZ0"
   ]
  },
  {
   "cell_type": "markdown",
   "id": "9b99b818",
   "metadata": {
    "deletable": false,
    "editable": false,
    "nbgrader": {
     "cell_type": "markdown",
     "checksum": "2513534460dd202a43e56d19cf7732f4",
     "grade": false,
     "grade_id": "cell-86e3317df1cdb084",
     "locked": true,
     "schema_version": 3,
     "solution": false,
     "task": false
    }
   },
   "source": [
    "### Exercises"
   ]
  },
  {
   "cell_type": "markdown",
   "id": "a9a741dc",
   "metadata": {
    "deletable": false,
    "editable": false,
    "nbgrader": {
     "cell_type": "markdown",
     "checksum": "11b9502c9c4be5f94e2ea3f0cd1b657e",
     "grade": false,
     "grade_id": "cell-3d69e6822a601f01",
     "locked": true,
     "schema_version": 3,
     "solution": false,
     "task": false
    }
   },
   "source": [
    "Write your answer in the cell below.\n",
    "\n",
    "* How do you start the Python Shell?\n",
    "* Open the Python Shell on your own computer.\n",
    "* Enter the command `print (\"Hello World\")`\n",
    "* Describe what happened.\n",
    "* How do you exit the Python Shell?"
   ]
  },
  {
   "cell_type": "markdown",
   "id": "82cbc0aa",
   "metadata": {
    "deletable": false,
    "nbgrader": {
     "cell_type": "markdown",
     "checksum": "a2b3170b43f4901619434e2deceef586",
     "grade": true,
     "grade_id": "cell-53a4444f94e467b7",
     "locked": false,
     "points": 3,
     "schema_version": 3,
     "solution": true,
     "task": false
    }
   },
   "source": [
    "You can open the Python Shell simply by accessing the cmd terminal and typing \"python\" or open it sort of indirectly in VS Code by creating a \".py\" file.  By entering the print(\"Hello World\") command it instructs Python to print the string of characters within the quotation marks which generates the words \"Hello World\".  You can then exit the Python Shell simply by closing the terminal window or file or typing \"exit()\" if you want to stay in the cmd terminal. "
   ]
  },
  {
   "cell_type": "markdown",
   "id": "73aa16b0",
   "metadata": {
    "deletable": false,
    "editable": false,
    "nbgrader": {
     "cell_type": "markdown",
     "checksum": "753a8dd75ec491fae7c8f166800816d7",
     "grade": false,
     "grade_id": "cell-902634d602d27f6f",
     "locked": true,
     "schema_version": 3,
     "solution": false,
     "task": false
    }
   },
   "source": [
    "Write your answer in the cell below.\n",
    "\n",
    "* Create a file called test.py on your computer.\n",
    "* Enter the code `print (\"Hello World\")` on the first line.\n",
    "* Save the file.\n",
    "* How do you run the python script test.py on your computer?\n",
    "* Run the python script test.py on your computer.\n",
    "* Describe what happened."
   ]
  },
  {
   "cell_type": "markdown",
   "id": "f4bb5950",
   "metadata": {
    "deletable": false,
    "nbgrader": {
     "cell_type": "markdown",
     "checksum": "f9baa40f396089cec256045db0cf4d90",
     "grade": true,
     "grade_id": "cell-1add94d30f3cb571",
     "locked": false,
     "points": 2,
     "schema_version": 3,
     "solution": true,
     "task": false
    }
   },
   "source": [
    "In VS Code you can open the .py file and just hit the play button up near the top right of the window. By hitting the play button it executed the program in the terminal window at the bottom portion of the VS code window and printed the words \"Hello World\" and then returned to the command prompt and the file's location within the computer directories. "
   ]
  }
 ],
 "metadata": {
  "kernelspec": {
   "display_name": "Python 3.9.12 ('base')",
   "language": "python",
   "name": "python3"
  },
  "language_info": {
   "codemirror_mode": {
    "name": "ipython",
    "version": 3
   },
   "file_extension": ".py",
   "mimetype": "text/x-python",
   "name": "python",
   "nbconvert_exporter": "python",
   "pygments_lexer": "ipython3",
   "version": "3.9.12"
  },
  "vscode": {
   "interpreter": {
    "hash": "5af86353ff110611318fd4d146ecc7aa14e568fb8ae0599726d1747dec13bd0c"
   }
  }
 },
 "nbformat": 4,
 "nbformat_minor": 5
}
